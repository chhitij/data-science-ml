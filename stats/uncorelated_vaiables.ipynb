{
 "cells": [
  {
   "cell_type": "code",
   "execution_count": 1,
   "metadata": {},
   "outputs": [],
   "source": [
    "import pandas as pd\n",
    "import matplotlib.pyplot as plt\n",
    "import seaborn as sns\n",
    "import warnings\n",
    "warnings.filterwarnings('ignore')\n",
    "%matplotlib inline"
   ]
  },
  {
   "cell_type": "markdown",
   "metadata": {},
   "source": [
    "### # Function for getting uncorelated columns fileds"
   ]
  },
  {
   "cell_type": "code",
   "execution_count": 27,
   "metadata": {
    "scrolled": false
   },
   "outputs": [
    {
     "name": "stdout",
     "output_type": "stream",
     "text": [
      "Enter Threshold limit for correlation: .75\n"
     ]
    },
    {
     "data": {
      "text/plain": [
       "Index(['Id', 'MSSubClass', 'MSZoning', 'LotFrontage', 'LotArea', 'Street',\n",
       "       'Alley', 'LotShape', 'LandContour', 'Utilities', 'LotConfig',\n",
       "       'LandSlope', 'Neighborhood', 'Condition1', 'Condition2', 'BldgType',\n",
       "       'HouseStyle', 'OverallQual', 'OverallCond', 'YearBuilt', 'YearRemodAdd',\n",
       "       'RoofStyle', 'RoofMatl', 'Exterior1st', 'Exterior2nd', 'MasVnrType',\n",
       "       'MasVnrArea', 'ExterQual', 'ExterCond', 'Foundation', 'BsmtQual',\n",
       "       'BsmtCond', 'BsmtExposure', 'BsmtFinType1', 'BsmtFinSF1',\n",
       "       'BsmtFinType2', 'BsmtFinSF2', 'BsmtUnfSF', 'TotalBsmtSF', 'Heating',\n",
       "       'HeatingQC', 'CentralAir', 'Electrical', '2ndFlrSF', 'LowQualFinSF',\n",
       "       'GrLivArea', 'BsmtFullBath', 'BsmtHalfBath', 'FullBath', 'HalfBath',\n",
       "       'BedroomAbvGr', 'KitchenAbvGr', 'KitchenQual', 'Functional',\n",
       "       'Fireplaces', 'FireplaceQu', 'GarageType', 'GarageFinish', 'GarageCars',\n",
       "       'GarageQual', 'GarageCond', 'PavedDrive', 'WoodDeckSF', 'OpenPorchSF',\n",
       "       'EnclosedPorch', '3SsnPorch', 'ScreenPorch', 'PoolArea', 'PoolQC',\n",
       "       'Fence', 'MiscFeature', 'MiscVal', 'MoSold', 'YrSold', 'SaleType',\n",
       "       'SaleCondition'],\n",
       "      dtype='object')"
      ]
     },
     "execution_count": 27,
     "metadata": {},
     "output_type": "execute_result"
    }
   ],
   "source": [
    "\n",
    "# Function for checking exception for entered threshold val\n",
    "def checkValidationForEnteredThreshold(dataset):\n",
    "    while True:\n",
    "        # Ask user to set corelation accordingly.\n",
    "        corrThresholdLmt = input(\"Enter Threshold limit for correlation: \")\n",
    "        try:\n",
    "            df_train = pd.read_csv(dataset);\n",
    "            threshold_lim = float(corrThresholdLmt)\n",
    "            if (threshold_lim >=0) and (threshold_lim <=1) :\n",
    "                break\n",
    "            else:\n",
    "                print(\"Oops! Threshold should be b/w 0 to 1\")\n",
    "        except ValueError:\n",
    "            print(\"Oops!  That was no valid number.  Try again...\")\n",
    "        except FileNotFoundError:\n",
    "            print(\"Error: can\\'t find file\")\n",
    "    return {'threshold_lim':threshold_lim, 'dataset':df_train}\n",
    "\n",
    "# --------------------------------------------------------------------------------------------------------------------#\n",
    "\n",
    "# get Un-corelated list\n",
    "def findUncorelatedList():\n",
    "    # Store dataset and threshold limit if availble\n",
    "    thresholdAndDataset = checkValidationForEnteredThreshold('HouseData.csv');\n",
    "    df_train = thresholdAndDataset['dataset'];\n",
    "    corrThresholdLmt =thresholdAndDataset['threshold_lim'];\n",
    "    \n",
    "    # set all the name of deleted columns\n",
    "    cor_column = set()\n",
    "    \n",
    "    # added abs for making positive to get corelation for negative value as well\n",
    "    corr_matrix = df_train.corr().abs()\n",
    "    for i in range(len(corr_matrix.columns)):\n",
    "        for j in range(i):\n",
    "            if (corr_matrix.iloc[i, j] >= corrThresholdLmt) and (corr_matrix.columns[j] not in cor_column):\n",
    "                # getting the name of column\n",
    "                colname = corr_matrix.columns[i] \n",
    "                cor_column.add(colname)\n",
    "                if colname in df_train.columns:\n",
    "                    # deleting the column from the dataset\n",
    "                    del df_train[colname] \n",
    "    return df_train.columns\n",
    "\n",
    "findUncorelatedList()"
   ]
  },
  {
   "cell_type": "code",
   "execution_count": null,
   "metadata": {},
   "outputs": [],
   "source": []
  },
  {
   "cell_type": "code",
   "execution_count": null,
   "metadata": {},
   "outputs": [],
   "source": []
  },
  {
   "cell_type": "code",
   "execution_count": null,
   "metadata": {},
   "outputs": [],
   "source": []
  }
 ],
 "metadata": {
  "kernelspec": {
   "display_name": "Python 3",
   "language": "python",
   "name": "python3"
  },
  "language_info": {
   "codemirror_mode": {
    "name": "ipython",
    "version": 3
   },
   "file_extension": ".py",
   "mimetype": "text/x-python",
   "name": "python",
   "nbconvert_exporter": "python",
   "pygments_lexer": "ipython3",
   "version": "3.8.5"
  }
 },
 "nbformat": 4,
 "nbformat_minor": 4
}
