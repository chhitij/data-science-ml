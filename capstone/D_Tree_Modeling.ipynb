{
 "cells": [
  {
   "cell_type": "markdown",
   "metadata": {},
   "source": [
    "### D_TREE_MODELING"
   ]
  },
  {
   "cell_type": "code",
   "execution_count": 85,
   "metadata": {},
   "outputs": [
    {
     "name": "stdout",
     "output_type": "stream",
     "text": [
      "display.max_colwidth : int or None\n",
      "    The maximum width in characters of a column in the repr of\n",
      "    a pandas data structure. When the column overflows, a \"...\"\n",
      "    placeholder is embedded in the output. A 'None' value means unlimited.\n",
      "    [default: 50] [currently: 400]\n"
     ]
    }
   ],
   "source": [
    "import pandas as pd\n",
    "import time\n",
    "pd.set_option('max_rows',40)\n",
    "pd.set_option('max_colwidth',400)\n",
    "pd.describe_option('max_colwidth')\n",
    "import numpy as np\n",
    "from matplotlib import pyplot as plt\n",
    "import seaborn as sns\n",
    "sns.set(style=\"darkgrid\")\n",
    "sns.color_palette()\n",
    "import warnings\n",
    "warnings.filterwarnings('ignore')\n",
    "%matplotlib inline\n",
    "execution_start_time = time.time()\n",
    "from sklearn import preprocessing\n",
    "from sklearn.model_selection import train_test_split , GridSearchCV\n",
    "from sklearn.tree import DecisionTreeClassifier\n",
    "from sklearn.metrics import confusion_matrix\n",
    "from sklearn.metrics import accuracy_score\n",
    "from sklearn.metrics import classification_report\n",
    "from sklearn.metrics import roc_curve, auc\n",
    "from IPython.display import Image \n",
    "import time\n",
    "from sklearn.tree import export_graphviz\n",
    "#import pydotplus"
   ]
  },
  {
   "cell_type": "code",
   "execution_count": 86,
   "metadata": {},
   "outputs": [
    {
     "name": "stdout",
     "output_type": "stream",
     "text": [
      "==================== Data Loading ======================\n",
      "<class 'pandas.core.frame.DataFrame'>\n",
      "RangeIndex: 2940 entries, 0 to 2939\n",
      "Data columns (total 32 columns):\n",
      " #   Column                    Non-Null Count  Dtype\n",
      "---  ------                    --------------  -----\n",
      " 0   Age                       2940 non-null   int64\n",
      " 1   Attrition                 2940 non-null   int64\n",
      " 2   BusinessTravel            2940 non-null   int64\n",
      " 3   DailyRate                 2940 non-null   int64\n",
      " 4   Department                2940 non-null   int64\n",
      " 5   DistanceFromHome          2940 non-null   int64\n",
      " 6   Education                 2940 non-null   int64\n",
      " 7   EducationField            2940 non-null   int64\n",
      " 8   EmployeeNumber            2940 non-null   int64\n",
      " 9   EnvironmentSatisfaction   2940 non-null   int64\n",
      " 10  Gender                    2940 non-null   int64\n",
      " 11  HourlyRate                2940 non-null   int64\n",
      " 12  JobInvolvement            2940 non-null   int64\n",
      " 13  JobLevel                  2940 non-null   int64\n",
      " 14  JobRole                   2940 non-null   int64\n",
      " 15  JobSatisfaction           2940 non-null   int64\n",
      " 16  MaritalStatus             2940 non-null   int64\n",
      " 17  MonthlyIncome             2940 non-null   int64\n",
      " 18  MonthlyRate               2940 non-null   int64\n",
      " 19  NumCompaniesWorked        2940 non-null   int64\n",
      " 20  OverTime                  2940 non-null   int64\n",
      " 21  PercentSalaryHike         2940 non-null   int64\n",
      " 22  PerformanceRating         2940 non-null   int64\n",
      " 23  RelationshipSatisfaction  2940 non-null   int64\n",
      " 24  StockOptionLevel          2940 non-null   int64\n",
      " 25  TotalWorkingYears         2940 non-null   int64\n",
      " 26  TrainingTimesLastYear     2940 non-null   int64\n",
      " 27  WorkLifeBalance           2940 non-null   int64\n",
      " 28  YearsAtCompany            2940 non-null   int64\n",
      " 29  YearsInCurrentRole        2940 non-null   int64\n",
      " 30  YearsSinceLastPromotion   2940 non-null   int64\n",
      " 31  YearsWithCurrManager      2940 non-null   int64\n",
      "dtypes: int64(32)\n",
      "memory usage: 735.1 KB\n",
      "==================== Data Loaded In ======================\n",
      "==================== Data Shape (2940, 32) ======================\n",
      "Duration: --- 0.0004357576370239258 Minutes ---\n"
     ]
    }
   ],
   "source": [
    "print(\"==================== Data Loading ======================\")\n",
    "start_time = time.time()\n",
    "df=pd.read_csv('onehotEncoded.csv')\n",
    "del df['Unnamed: 0']\n",
    "df.info()\n",
    "print(\"==================== Data Loaded In ======================\")\n",
    "print(\"==================== Data Shape \"+str(df.shape)+\" ======================\")\n",
    "print(\"Duration: --- %s Minutes ---\" % ((time.time() - start_time)/60))"
   ]
  },
  {
   "cell_type": "code",
   "execution_count": 87,
   "metadata": {},
   "outputs": [],
   "source": [
    "def preprocessor(df):\n",
    "    res_df = df.copy()\n",
    "    le = preprocessing.LabelEncoder()\n",
    "    \n",
    "    res_df['BusinessTravel'] = le.fit_transform(res_df['BusinessTravel'])\n",
    "    res_df['Department'] = le.fit_transform(res_df['Department'])\n",
    "    res_df['EducationField'] = le.fit_transform(res_df['EducationField'])\n",
    "    res_df['Gender'] = le.fit_transform(res_df['Gender'])\n",
    "    res_df['JobRole'] = le.fit_transform(res_df['JobRole'])\n",
    "    res_df['MaritalStatus'] = le.fit_transform(res_df['MaritalStatus'])\n",
    "    res_df['Attrition'] = le.fit_transform(res_df['Attrition'])\n",
    "    res_df['OverTime'] =  le.fit_transform(res_df['OverTime'])           \n",
    "    return res_df"
   ]
  },
  {
   "cell_type": "code",
   "execution_count": 88,
   "metadata": {},
   "outputs": [
    {
     "data": {
      "text/html": [
       "<div>\n",
       "<style scoped>\n",
       "    .dataframe tbody tr th:only-of-type {\n",
       "        vertical-align: middle;\n",
       "    }\n",
       "\n",
       "    .dataframe tbody tr th {\n",
       "        vertical-align: top;\n",
       "    }\n",
       "\n",
       "    .dataframe thead th {\n",
       "        text-align: right;\n",
       "    }\n",
       "</style>\n",
       "<table border=\"1\" class=\"dataframe\">\n",
       "  <thead>\n",
       "    <tr style=\"text-align: right;\">\n",
       "      <th></th>\n",
       "      <th>Age</th>\n",
       "      <th>Attrition</th>\n",
       "      <th>BusinessTravel</th>\n",
       "      <th>DailyRate</th>\n",
       "      <th>Department</th>\n",
       "      <th>DistanceFromHome</th>\n",
       "      <th>Education</th>\n",
       "      <th>EducationField</th>\n",
       "      <th>EmployeeNumber</th>\n",
       "      <th>EnvironmentSatisfaction</th>\n",
       "      <th>Gender</th>\n",
       "      <th>HourlyRate</th>\n",
       "      <th>JobInvolvement</th>\n",
       "      <th>JobLevel</th>\n",
       "      <th>JobRole</th>\n",
       "      <th>JobSatisfaction</th>\n",
       "      <th>MaritalStatus</th>\n",
       "      <th>MonthlyIncome</th>\n",
       "      <th>MonthlyRate</th>\n",
       "      <th>NumCompaniesWorked</th>\n",
       "      <th>OverTime</th>\n",
       "      <th>PercentSalaryHike</th>\n",
       "      <th>PerformanceRating</th>\n",
       "      <th>RelationshipSatisfaction</th>\n",
       "      <th>StockOptionLevel</th>\n",
       "      <th>TotalWorkingYears</th>\n",
       "      <th>TrainingTimesLastYear</th>\n",
       "      <th>WorkLifeBalance</th>\n",
       "      <th>YearsAtCompany</th>\n",
       "      <th>YearsInCurrentRole</th>\n",
       "      <th>YearsSinceLastPromotion</th>\n",
       "      <th>YearsWithCurrManager</th>\n",
       "    </tr>\n",
       "  </thead>\n",
       "  <tbody>\n",
       "    <tr>\n",
       "      <th>0</th>\n",
       "      <td>41</td>\n",
       "      <td>1</td>\n",
       "      <td>2</td>\n",
       "      <td>1102</td>\n",
       "      <td>2</td>\n",
       "      <td>1</td>\n",
       "      <td>2</td>\n",
       "      <td>1</td>\n",
       "      <td>1</td>\n",
       "      <td>2</td>\n",
       "      <td>0</td>\n",
       "      <td>94</td>\n",
       "      <td>3</td>\n",
       "      <td>2</td>\n",
       "      <td>7</td>\n",
       "      <td>4</td>\n",
       "      <td>2</td>\n",
       "      <td>5993</td>\n",
       "      <td>19479</td>\n",
       "      <td>8</td>\n",
       "      <td>1</td>\n",
       "      <td>11</td>\n",
       "      <td>3</td>\n",
       "      <td>1</td>\n",
       "      <td>0</td>\n",
       "      <td>8</td>\n",
       "      <td>0</td>\n",
       "      <td>1</td>\n",
       "      <td>6</td>\n",
       "      <td>4</td>\n",
       "      <td>0</td>\n",
       "      <td>5</td>\n",
       "    </tr>\n",
       "    <tr>\n",
       "      <th>1</th>\n",
       "      <td>49</td>\n",
       "      <td>0</td>\n",
       "      <td>1</td>\n",
       "      <td>279</td>\n",
       "      <td>1</td>\n",
       "      <td>8</td>\n",
       "      <td>1</td>\n",
       "      <td>1</td>\n",
       "      <td>2</td>\n",
       "      <td>3</td>\n",
       "      <td>1</td>\n",
       "      <td>61</td>\n",
       "      <td>2</td>\n",
       "      <td>2</td>\n",
       "      <td>6</td>\n",
       "      <td>2</td>\n",
       "      <td>1</td>\n",
       "      <td>5130</td>\n",
       "      <td>24907</td>\n",
       "      <td>1</td>\n",
       "      <td>0</td>\n",
       "      <td>23</td>\n",
       "      <td>4</td>\n",
       "      <td>4</td>\n",
       "      <td>1</td>\n",
       "      <td>10</td>\n",
       "      <td>3</td>\n",
       "      <td>3</td>\n",
       "      <td>10</td>\n",
       "      <td>7</td>\n",
       "      <td>1</td>\n",
       "      <td>7</td>\n",
       "    </tr>\n",
       "    <tr>\n",
       "      <th>2</th>\n",
       "      <td>37</td>\n",
       "      <td>1</td>\n",
       "      <td>2</td>\n",
       "      <td>1373</td>\n",
       "      <td>1</td>\n",
       "      <td>2</td>\n",
       "      <td>2</td>\n",
       "      <td>4</td>\n",
       "      <td>3</td>\n",
       "      <td>4</td>\n",
       "      <td>1</td>\n",
       "      <td>92</td>\n",
       "      <td>2</td>\n",
       "      <td>1</td>\n",
       "      <td>2</td>\n",
       "      <td>3</td>\n",
       "      <td>2</td>\n",
       "      <td>2090</td>\n",
       "      <td>2396</td>\n",
       "      <td>6</td>\n",
       "      <td>1</td>\n",
       "      <td>15</td>\n",
       "      <td>3</td>\n",
       "      <td>2</td>\n",
       "      <td>0</td>\n",
       "      <td>7</td>\n",
       "      <td>3</td>\n",
       "      <td>3</td>\n",
       "      <td>0</td>\n",
       "      <td>0</td>\n",
       "      <td>0</td>\n",
       "      <td>0</td>\n",
       "    </tr>\n",
       "    <tr>\n",
       "      <th>3</th>\n",
       "      <td>33</td>\n",
       "      <td>0</td>\n",
       "      <td>1</td>\n",
       "      <td>1392</td>\n",
       "      <td>1</td>\n",
       "      <td>3</td>\n",
       "      <td>4</td>\n",
       "      <td>1</td>\n",
       "      <td>4</td>\n",
       "      <td>4</td>\n",
       "      <td>0</td>\n",
       "      <td>56</td>\n",
       "      <td>3</td>\n",
       "      <td>1</td>\n",
       "      <td>6</td>\n",
       "      <td>3</td>\n",
       "      <td>1</td>\n",
       "      <td>2909</td>\n",
       "      <td>23159</td>\n",
       "      <td>1</td>\n",
       "      <td>1</td>\n",
       "      <td>11</td>\n",
       "      <td>3</td>\n",
       "      <td>3</td>\n",
       "      <td>0</td>\n",
       "      <td>8</td>\n",
       "      <td>3</td>\n",
       "      <td>3</td>\n",
       "      <td>8</td>\n",
       "      <td>7</td>\n",
       "      <td>3</td>\n",
       "      <td>0</td>\n",
       "    </tr>\n",
       "    <tr>\n",
       "      <th>4</th>\n",
       "      <td>27</td>\n",
       "      <td>0</td>\n",
       "      <td>2</td>\n",
       "      <td>591</td>\n",
       "      <td>1</td>\n",
       "      <td>2</td>\n",
       "      <td>1</td>\n",
       "      <td>3</td>\n",
       "      <td>5</td>\n",
       "      <td>1</td>\n",
       "      <td>1</td>\n",
       "      <td>40</td>\n",
       "      <td>3</td>\n",
       "      <td>1</td>\n",
       "      <td>2</td>\n",
       "      <td>2</td>\n",
       "      <td>1</td>\n",
       "      <td>3468</td>\n",
       "      <td>16632</td>\n",
       "      <td>9</td>\n",
       "      <td>0</td>\n",
       "      <td>12</td>\n",
       "      <td>3</td>\n",
       "      <td>4</td>\n",
       "      <td>1</td>\n",
       "      <td>6</td>\n",
       "      <td>3</td>\n",
       "      <td>3</td>\n",
       "      <td>2</td>\n",
       "      <td>2</td>\n",
       "      <td>2</td>\n",
       "      <td>2</td>\n",
       "    </tr>\n",
       "  </tbody>\n",
       "</table>\n",
       "</div>"
      ],
      "text/plain": [
       "   Age  Attrition  BusinessTravel  DailyRate  Department  DistanceFromHome  \\\n",
       "0   41          1               2       1102           2                 1   \n",
       "1   49          0               1        279           1                 8   \n",
       "2   37          1               2       1373           1                 2   \n",
       "3   33          0               1       1392           1                 3   \n",
       "4   27          0               2        591           1                 2   \n",
       "\n",
       "   Education  EducationField  EmployeeNumber  EnvironmentSatisfaction  Gender  \\\n",
       "0          2               1               1                        2       0   \n",
       "1          1               1               2                        3       1   \n",
       "2          2               4               3                        4       1   \n",
       "3          4               1               4                        4       0   \n",
       "4          1               3               5                        1       1   \n",
       "\n",
       "   HourlyRate  JobInvolvement  JobLevel  JobRole  JobSatisfaction  \\\n",
       "0          94               3         2        7                4   \n",
       "1          61               2         2        6                2   \n",
       "2          92               2         1        2                3   \n",
       "3          56               3         1        6                3   \n",
       "4          40               3         1        2                2   \n",
       "\n",
       "   MaritalStatus  MonthlyIncome  MonthlyRate  NumCompaniesWorked  OverTime  \\\n",
       "0              2           5993        19479                   8         1   \n",
       "1              1           5130        24907                   1         0   \n",
       "2              2           2090         2396                   6         1   \n",
       "3              1           2909        23159                   1         1   \n",
       "4              1           3468        16632                   9         0   \n",
       "\n",
       "   PercentSalaryHike  PerformanceRating  RelationshipSatisfaction  \\\n",
       "0                 11                  3                         1   \n",
       "1                 23                  4                         4   \n",
       "2                 15                  3                         2   \n",
       "3                 11                  3                         3   \n",
       "4                 12                  3                         4   \n",
       "\n",
       "   StockOptionLevel  TotalWorkingYears  TrainingTimesLastYear  \\\n",
       "0                 0                  8                      0   \n",
       "1                 1                 10                      3   \n",
       "2                 0                  7                      3   \n",
       "3                 0                  8                      3   \n",
       "4                 1                  6                      3   \n",
       "\n",
       "   WorkLifeBalance  YearsAtCompany  YearsInCurrentRole  \\\n",
       "0                1               6                   4   \n",
       "1                3              10                   7   \n",
       "2                3               0                   0   \n",
       "3                3               8                   7   \n",
       "4                3               2                   2   \n",
       "\n",
       "   YearsSinceLastPromotion  YearsWithCurrManager  \n",
       "0                        0                     5  \n",
       "1                        1                     7  \n",
       "2                        0                     0  \n",
       "3                        3                     0  \n",
       "4                        2                     2  "
      ]
     },
     "execution_count": 88,
     "metadata": {},
     "output_type": "execute_result"
    }
   ],
   "source": [
    "df.head()"
   ]
  },
  {
   "cell_type": "code",
   "execution_count": 89,
   "metadata": {},
   "outputs": [
    {
     "data": {
      "text/plain": [
       "0    83.877551\n",
       "1    16.122449\n",
       "Name: Attrition, dtype: float64"
      ]
     },
     "execution_count": 89,
     "metadata": {},
     "output_type": "execute_result"
    }
   ],
   "source": [
    "# encoded_df.head()\n",
    "x = df.drop(['Attrition'],axis =1).values\n",
    "y = df['Attrition'].values\n",
    "(df['Attrition'].value_counts()/df.shape[0])*100"
   ]
  },
  {
   "cell_type": "markdown",
   "metadata": {},
   "source": [
    "### Split the data into Train-Test"
   ]
  },
  {
   "cell_type": "code",
   "execution_count": 90,
   "metadata": {},
   "outputs": [],
   "source": [
    "x_train, x_test, y_train,y_test = train_test_split(x,y,test_size=0.2)"
   ]
  },
  {
   "cell_type": "code",
   "execution_count": null,
   "metadata": {},
   "outputs": [],
   "source": []
  },
  {
   "cell_type": "markdown",
   "metadata": {},
   "source": [
    "### FEATURE SCALING"
   ]
  },
  {
   "cell_type": "code",
   "execution_count": 91,
   "metadata": {},
   "outputs": [],
   "source": [
    "# from sklearn.preprocessing import StandardScaler"
   ]
  },
  {
   "cell_type": "code",
   "execution_count": 92,
   "metadata": {},
   "outputs": [],
   "source": [
    "# # we should apply feature scaling after the test to prevent information lekage.\n",
    "# ## shoud not apply feature scaling on dummy variable . because standradization it self \n",
    "# sc = StandardScaler()\n",
    "# x_train = sc.fit_transform(x_train)\n",
    "# x_test = sc.fit_transform(x_test)"
   ]
  },
  {
   "cell_type": "markdown",
   "metadata": {},
   "source": [
    "## Get best Hyper-Parameter Optimization usng GridSearchCv"
   ]
  },
  {
   "cell_type": "code",
   "execution_count": 93,
   "metadata": {},
   "outputs": [],
   "source": [
    "def getOptimalParams(param_dist):\n",
    "    np.random.seed(42)\n",
    "    start = time.time()\n",
    "    bestParams = {}\n",
    "    cv_rf = GridSearchCV(model_dt, cv = 8,\n",
    "                     param_grid=param_dist, \n",
    "                     n_jobs = 3)\n",
    "    ## set trained data\n",
    "    cv_rf.fit(x_train,y_train)\n",
    "    bestParams['bestparams']= cv_rf.best_params_\n",
    "    end = time.time()\n",
    "    bestParams['Time taken in grid search'] = '{0:.2f}'.format(end-start)\n",
    "    \n",
    "    return bestParams\n",
    "    "
   ]
  },
  {
   "cell_type": "code",
   "execution_count": 94,
   "metadata": {},
   "outputs": [
    {
     "data": {
      "text/plain": [
       "{'bestparams': {'criterion': 'gini',\n",
       "  'max_depth': 5,\n",
       "  'max_features': 'auto',\n",
       "  'min_samples_leaf': 2,\n",
       "  'min_samples_split': 2},\n",
       " 'Time taken in grid search': '0.24'}"
      ]
     },
     "execution_count": 94,
     "metadata": {},
     "output_type": "execute_result"
    }
   ],
   "source": [
    "setOptimalParams = {\n",
    "    'max_depth':[1,2,3,4,5],\n",
    "    'criterion':['gini'],\n",
    "    'min_samples_split':[1,2,3],\n",
    "    'min_samples_leaf':[1,2],\n",
    "    'max_features': ['auto'],\n",
    "                    }\n",
    "optimalParams = getOptimalParams(setOptimalParams)\n",
    "optimalParams"
   ]
  },
  {
   "cell_type": "markdown",
   "metadata": {},
   "source": [
    "### Build the Decision tree Model"
   ]
  },
  {
   "cell_type": "code",
   "execution_count": 95,
   "metadata": {},
   "outputs": [
    {
     "name": "stdout",
     "output_type": "stream",
     "text": [
      "Training score:  0.875\n",
      "Testing score:  0.8435374149659864\n"
     ]
    }
   ],
   "source": [
    "# Decision tree with depth = 2\n",
    "opt_parms = optimalParams['bestparams'];\n",
    "\n",
    "model_dt_2 = DecisionTreeClassifier(random_state=1, **opt_parms)\n",
    "model_dt_2.fit(x_train, y_train)\n",
    "model_dt_2_score_train = model_dt_2.score(x_train, y_train)\n",
    "print(\"Training score: \",model_dt_2_score_train)\n",
    "model_dt_2_score_test = model_dt_2.score(x_test, y_test)\n",
    "print(\"Testing score: \",model_dt_2_score_test)"
   ]
  },
  {
   "cell_type": "code",
   "execution_count": 96,
   "metadata": {},
   "outputs": [
    {
     "data": {
      "text/plain": [
       "array([0.06057495, 0.06057495, 0.06057495, 0.46666667, 0.06057495,\n",
       "       0.06057495, 0.08571429, 0.06057495, 0.06057495, 0.26666667,\n",
       "       0.275     , 0.06057495, 0.06057495, 0.66666667, 0.06057495,\n",
       "       0.        , 0.06057495, 0.08571429, 0.06057495, 0.06057495,\n",
       "       0.10810811, 0.06057495, 0.08571429, 0.2195122 , 0.08571429,\n",
       "       0.06057495, 0.        , 0.46666667, 0.19117647, 0.06057495,\n",
       "       0.26666667, 0.11622276, 0.08571429, 0.06057495, 0.08571429,\n",
       "       0.08571429, 0.06057495, 0.11622276, 0.08571429, 0.06057495,\n",
       "       0.11622276, 0.11622276, 0.11622276, 0.08571429, 0.71428571,\n",
       "       0.08571429, 0.275     , 0.1744186 , 0.11622276, 0.06057495,\n",
       "       0.06057495, 0.08571429, 1.        , 0.06057495, 0.26666667,\n",
       "       0.26666667, 0.30909091, 0.11622276, 0.06057495, 0.11622276,\n",
       "       0.06057495, 0.06057495, 0.275     , 0.        , 0.06057495,\n",
       "       0.08571429, 0.11622276, 0.08571429, 0.06057495, 0.46666667,\n",
       "       0.43283582, 0.275     , 0.06057495, 0.26666667, 0.11622276,\n",
       "       0.06057495, 1.        , 0.06057495, 0.        , 0.        ,\n",
       "       0.11622276, 0.08571429, 0.06057495, 0.2195122 , 0.9047619 ,\n",
       "       0.06057495, 0.26666667, 0.1744186 , 0.06057495, 0.43283582,\n",
       "       0.1744186 , 0.1744186 , 0.11622276, 0.06057495, 0.1744186 ,\n",
       "       0.11622276, 0.06057495, 0.06057495, 0.06057495, 0.06057495,\n",
       "       0.06057495, 0.08571429, 0.11622276, 0.11622276, 0.43283582,\n",
       "       0.06057495, 0.06057495, 0.2195122 , 0.06057495, 0.08571429,\n",
       "       0.26666667, 0.26666667, 0.06057495, 0.26666667, 0.08571429,\n",
       "       0.10810811, 0.11622276, 0.06057495, 0.19117647, 0.06057495,\n",
       "       0.43283582, 0.11622276, 0.10810811, 0.11622276, 0.11622276,\n",
       "       0.10810811, 0.06057495, 0.11622276, 0.08571429, 0.11622276,\n",
       "       0.43283582, 0.06057495, 0.08571429, 1.        , 0.06057495,\n",
       "       0.11622276, 0.06057495, 0.11622276, 0.10810811, 0.11622276,\n",
       "       0.06057495, 0.11622276, 0.275     , 0.30909091, 0.11622276,\n",
       "       0.08571429, 0.        , 0.275     , 0.2195122 , 0.11622276,\n",
       "       1.        , 0.06057495, 0.19117647, 0.06057495, 0.08571429,\n",
       "       0.06057495, 0.08571429, 0.06057495, 0.11622276, 0.30909091,\n",
       "       0.06057495, 0.11622276, 0.06057495, 0.11622276, 0.11622276,\n",
       "       0.06057495, 0.11622276, 0.11622276, 0.06057495, 0.11622276,\n",
       "       0.11622276, 0.10810811, 0.30909091, 0.06057495, 0.06057495,\n",
       "       0.06057495, 0.11622276, 0.06057495, 0.06057495, 0.11622276,\n",
       "       0.46666667, 0.46666667, 0.11622276, 0.08571429, 0.06057495,\n",
       "       0.46666667, 0.10810811, 0.11622276, 0.06057495, 0.06057495,\n",
       "       0.06057495, 0.08571429, 0.275     , 0.        , 0.08571429,\n",
       "       0.11622276, 0.08571429, 0.43283582, 0.06057495, 0.10810811,\n",
       "       0.06057495, 0.06057495, 0.11622276, 0.06057495, 0.26666667,\n",
       "       0.11622276, 0.11622276, 0.11622276, 0.06057495, 0.06057495,\n",
       "       0.11622276, 0.06057495, 0.06057495, 0.08571429, 0.11622276,\n",
       "       0.10810811, 0.46666667, 0.06057495, 0.3       , 0.06057495,\n",
       "       0.71428571, 0.06057495, 0.1744186 , 0.06057495, 0.11622276,\n",
       "       0.43283582, 0.11622276, 0.11622276, 0.11622276, 0.06057495,\n",
       "       0.06057495, 0.06057495, 0.2195122 , 0.06057495, 0.06057495,\n",
       "       0.19117647, 0.08571429, 0.10810811, 0.3       , 0.06057495,\n",
       "       0.08571429, 0.08571429, 0.06057495, 0.11622276, 0.06057495,\n",
       "       0.06057495, 0.75      , 0.06057495, 0.08571429, 0.71428571,\n",
       "       0.11622276, 0.43283582, 0.2195122 , 0.06057495, 0.9047619 ,\n",
       "       0.06057495, 0.06057495, 0.06057495, 0.08571429, 0.11622276,\n",
       "       0.06057495, 0.26666667, 0.06057495, 0.19117647, 0.1744186 ,\n",
       "       0.2195122 , 0.06057495, 0.11622276, 0.11622276, 0.06057495,\n",
       "       0.06057495, 0.06057495, 0.11622276, 0.06057495, 0.11622276,\n",
       "       0.30909091, 0.11622276, 0.2195122 , 0.06057495, 0.06057495,\n",
       "       0.06057495, 0.30909091, 0.06057495, 0.06057495, 0.11622276,\n",
       "       0.11622276, 0.06057495, 0.1744186 , 0.66666667, 0.275     ,\n",
       "       0.26666667, 0.19117647, 0.06057495, 0.1744186 , 0.11622276,\n",
       "       0.11622276, 0.275     , 0.11622276, 0.06057495, 0.06057495,\n",
       "       0.06057495, 0.11622276, 0.08571429, 0.11622276, 0.11622276,\n",
       "       0.06057495, 0.06057495, 0.2195122 , 0.2195122 , 0.1744186 ,\n",
       "       0.08571429, 0.43283582, 0.06057495, 0.06057495, 0.06057495,\n",
       "       0.06057495, 0.11622276, 0.06057495, 0.06057495, 0.275     ,\n",
       "       0.66666667, 0.30909091, 0.30909091, 0.06057495, 0.06057495,\n",
       "       0.06057495, 0.11622276, 0.11622276, 0.06057495, 0.06057495,\n",
       "       0.06057495, 0.2195122 , 0.26666667, 0.43283582, 0.06057495,\n",
       "       0.1744186 , 0.06057495, 0.06057495, 0.06057495, 0.26666667,\n",
       "       0.06057495, 0.11622276, 0.08571429, 0.43283582, 0.11622276,\n",
       "       0.25      , 0.06057495, 0.30909091, 0.11622276, 0.19117647,\n",
       "       0.11622276, 0.06057495, 0.11622276, 0.06057495, 0.08571429,\n",
       "       0.08571429, 0.06057495, 0.06057495, 0.11622276, 0.06057495,\n",
       "       0.06057495, 0.11622276, 0.06057495, 0.26666667, 0.26666667,\n",
       "       1.        , 0.06057495, 0.06057495, 0.11622276, 0.06057495,\n",
       "       0.43283582, 0.06057495, 0.11622276, 0.06057495, 0.11622276,\n",
       "       0.06057495, 0.11622276, 0.11622276, 0.06057495, 0.11622276,\n",
       "       0.3       , 0.11622276, 0.06057495, 0.1744186 , 0.11622276,\n",
       "       0.26666667, 0.19117647, 0.11622276, 0.06057495, 0.19117647,\n",
       "       0.06057495, 0.11622276, 0.08571429, 0.06057495, 0.06057495,\n",
       "       0.06057495, 0.06057495, 0.06057495, 0.08571429, 0.19117647,\n",
       "       0.08571429, 0.08571429, 0.06057495, 0.3       , 0.06057495,\n",
       "       0.06057495, 0.1744186 , 0.06057495, 0.2195122 , 0.06057495,\n",
       "       0.11622276, 0.30909091, 0.26666667, 0.06057495, 0.11622276,\n",
       "       0.1744186 , 0.1744186 , 0.11622276, 0.43283582, 0.06057495,\n",
       "       0.06057495, 0.11622276, 0.08571429, 0.08571429, 0.11622276,\n",
       "       0.08571429, 0.06057495, 0.06057495, 0.26666667, 0.9047619 ,\n",
       "       0.06057495, 0.11622276, 0.11622276, 0.08571429, 0.06057495,\n",
       "       0.19117647, 0.19117647, 0.06057495, 0.43283582, 0.19117647,\n",
       "       0.06057495, 0.06057495, 0.08571429, 0.08571429, 0.08571429,\n",
       "       0.26666667, 0.11622276, 0.10810811, 0.06057495, 0.66666667,\n",
       "       0.06057495, 0.75      , 0.06057495, 0.11622276, 0.11622276,\n",
       "       0.06057495, 0.30909091, 0.26666667, 0.11622276, 0.06057495,\n",
       "       0.26666667, 0.30909091, 0.06057495, 1.        , 0.06057495,\n",
       "       0.06057495, 0.06057495, 0.11622276, 0.06057495, 0.11622276,\n",
       "       0.06057495, 0.19117647, 0.11622276, 0.08571429, 0.11622276,\n",
       "       0.06057495, 0.06057495, 0.75      , 0.11622276, 0.08571429,\n",
       "       0.275     , 0.06057495, 0.11622276, 0.06057495, 0.06057495,\n",
       "       0.06057495, 0.06057495, 0.06057495, 0.08571429, 0.06057495,\n",
       "       0.06057495, 0.1744186 , 0.26666667, 0.06057495, 0.06057495,\n",
       "       0.06057495, 0.11622276, 0.06057495, 0.06057495, 0.43283582,\n",
       "       0.11622276, 0.06057495, 0.06057495, 0.06057495, 0.9047619 ,\n",
       "       0.2195122 , 0.11622276, 0.08571429, 0.275     , 0.11622276,\n",
       "       0.26666667, 0.06057495, 0.11622276, 0.06057495, 0.275     ,\n",
       "       0.06057495, 0.06057495, 0.08571429, 0.06057495, 0.2195122 ,\n",
       "       0.06057495, 0.06057495, 0.26666667, 0.06057495, 0.19117647,\n",
       "       0.06057495, 0.1744186 , 0.06057495, 0.06057495, 0.06057495,\n",
       "       0.26666667, 0.06057495, 0.10810811, 0.06057495, 0.08571429,\n",
       "       0.06057495, 0.06057495, 0.275     , 0.06057495, 0.06057495,\n",
       "       0.11622276, 0.06057495, 0.08571429, 0.11622276, 0.11622276,\n",
       "       0.08571429, 0.11622276, 0.11622276, 0.06057495, 0.66666667,\n",
       "       0.11622276, 0.06057495, 0.11622276, 0.46666667, 1.        ,\n",
       "       0.06057495, 0.06057495, 0.30909091, 0.06057495, 0.06057495,\n",
       "       0.08571429, 0.06057495, 0.06057495, 0.19117647, 0.11622276,\n",
       "       0.11622276, 0.06057495, 0.26666667, 0.06057495, 0.10810811,\n",
       "       0.08571429, 0.06057495, 0.11622276, 0.25      , 0.        ,\n",
       "       0.06057495, 0.06057495, 0.11622276, 0.11622276, 0.06057495,\n",
       "       0.11622276, 0.06057495, 0.1744186 , 0.75      , 0.11622276,\n",
       "       0.08571429, 0.08571429, 0.11622276])"
      ]
     },
     "execution_count": 96,
     "metadata": {},
     "output_type": "execute_result"
    }
   ],
   "source": [
    "y_pred_dt = model_dt_2.predict_proba(x_test)[:, 1]\n",
    "y_pred_dt"
   ]
  },
  {
   "cell_type": "markdown",
   "metadata": {},
   "source": [
    "### Performance Metrics"
   ]
  },
  {
   "cell_type": "code",
   "execution_count": 97,
   "metadata": {},
   "outputs": [],
   "source": [
    "fpr_dt, tpr_dt, _ = roc_curve(y_test, y_pred_dt)\n",
    "roc_auc_dt = auc(fpr_dt, tpr_dt)"
   ]
  },
  {
   "cell_type": "code",
   "execution_count": 98,
   "metadata": {},
   "outputs": [
    {
     "data": {
      "text/plain": [
       "array([0, 0, 0, 1, 0, 0, 0, 0, 0, 1, 0, 0, 0, 0, 0, 0, 0, 0, 0, 0, 0, 0,\n",
       "       0, 0, 0, 0, 0, 1, 1, 0, 1, 0, 0, 0, 1, 0, 0, 0, 0, 0, 1, 0, 0, 1,\n",
       "       1, 0, 1, 0, 0, 0, 0, 0, 1, 0, 0, 0, 0, 0, 0, 0, 0, 0, 0, 1, 0, 1,\n",
       "       0, 0, 0, 1, 0, 0, 0, 1, 0, 0, 0, 0, 0, 1, 0, 0, 0, 0, 1, 0, 1, 1,\n",
       "       0, 0, 0, 1, 0, 0, 0, 0, 0, 0, 0, 0, 0, 0, 0, 0, 0, 0, 0, 0, 0, 0,\n",
       "       0, 0, 0, 0, 0, 0, 0, 0, 0, 0, 0, 1, 1, 0, 0, 0, 0, 0, 0, 0, 0, 0,\n",
       "       0, 0, 1, 0, 0, 0, 0, 0, 0, 0, 0, 0, 0, 0, 0, 0, 0, 0, 1, 0, 0, 0,\n",
       "       0, 0, 1, 0, 0, 1, 0, 1, 0, 0, 0, 0, 0, 0, 0, 0, 0, 0, 0, 0, 0, 0,\n",
       "       0, 0, 0, 0, 1, 0, 0, 0, 0, 0, 0, 0, 0, 0, 0, 0, 0, 1, 1, 0, 0, 1,\n",
       "       0, 0, 0, 0, 0, 0, 0, 0, 0, 0, 0, 0, 0, 0, 0, 0, 0, 0, 1, 0, 1, 0,\n",
       "       0, 0, 0, 0, 0, 1, 0, 0, 0, 0, 0, 0, 1, 0, 0, 0, 0, 0, 1, 0, 0, 0,\n",
       "       0, 1, 0, 0, 0, 0, 0, 0, 0, 1, 0, 0, 0, 0, 0, 0, 1, 0, 0, 1, 0, 0,\n",
       "       1, 0, 0, 1, 0, 0, 0, 0, 0, 0, 0, 1, 0, 0, 0, 0, 0, 0, 0, 0, 0, 0,\n",
       "       0, 0, 1, 0, 0, 0, 0, 1, 0, 0, 0, 0, 0, 0, 0, 0, 0, 0, 0, 0, 0, 0,\n",
       "       0, 0, 0, 0, 0, 0, 0, 0, 0, 0, 0, 0, 1, 0, 0, 0, 0, 0, 0, 0, 0, 0,\n",
       "       0, 0, 0, 0, 0, 1, 0, 0, 0, 1, 0, 0, 0, 0, 0, 1, 0, 0, 0, 0, 0, 0,\n",
       "       0, 0, 0, 0, 0, 0, 0, 0, 0, 0, 0, 0, 1, 1, 0, 0, 0, 0, 0, 0, 0, 0,\n",
       "       0, 0, 0, 0, 0, 0, 0, 0, 0, 0, 0, 0, 0, 0, 0, 1, 0, 0, 0, 0, 0, 0,\n",
       "       0, 0, 0, 1, 0, 0, 0, 0, 0, 0, 0, 0, 0, 0, 0, 1, 0, 0, 0, 0, 0, 0,\n",
       "       0, 0, 0, 0, 0, 0, 1, 0, 0, 0, 0, 1, 0, 1, 1, 0, 0, 0, 0, 0, 0, 0,\n",
       "       0, 0, 0, 0, 0, 1, 0, 0, 0, 1, 0, 0, 0, 0, 1, 0, 0, 1, 0, 0, 0, 0,\n",
       "       0, 1, 0, 0, 0, 0, 0, 0, 0, 1, 0, 0, 0, 0, 0, 1, 0, 0, 0, 0, 0, 0,\n",
       "       0, 0, 1, 0, 0, 0, 0, 0, 1, 0, 0, 0, 0, 0, 0, 0, 0, 0, 0, 0, 1, 1,\n",
       "       1, 0, 0, 0, 1, 0, 0, 0, 0, 0, 0, 0, 0, 0, 0, 0, 0, 0, 1, 0, 0, 0,\n",
       "       0, 0, 1, 0, 0, 0, 0, 0, 0, 0, 0, 0, 0, 0, 1, 0, 0, 0, 0, 0, 0, 1,\n",
       "       0, 0, 0, 1, 1, 0, 0, 1, 0, 0, 0, 0, 0, 0, 0, 0, 0, 0, 0, 0, 0, 0,\n",
       "       0, 0, 0, 0, 0, 0, 0, 0, 0, 0, 0, 0, 0, 0, 0, 0], dtype=int64)"
      ]
     },
     "execution_count": 98,
     "metadata": {},
     "output_type": "execute_result"
    }
   ],
   "source": [
    "predictions = model_dt.predict(x_test)\n",
    "predictions"
   ]
  },
  {
   "cell_type": "markdown",
   "metadata": {},
   "source": [
    "### Area Under the Curve"
   ]
  },
  {
   "cell_type": "code",
   "execution_count": 99,
   "metadata": {},
   "outputs": [
    {
     "data": {
      "image/png": "[encoded data removed]",
      "text/plain": [
       "<Figure size 432x288 with 1 Axes>"
      ]
     },
     "metadata": {
      "needs_background": "light"
     },
     "output_type": "display_data"
    }
   ],
   "source": [
    "plt.figure(1)\n",
    "lw = 2\n",
    "plt.plot(fpr_dt, tpr_dt, color='green',\n",
    "         lw=lw, label='Decision Tree(AUC = %0.2f)' % roc_auc_dt)\n",
    "plt.plot([0, 1], [0, 1], color='navy', lw=lw, linestyle='--')\n",
    "plt.xlim([0.0, 1.0])\n",
    "plt.ylim([0.0, 1.05])\n",
    "plt.xlabel('False Positive Rate')\n",
    "plt.ylabel('True Positive Rate')\n",
    "plt.title('Area Under Curve')\n",
    "plt.legend(loc=\"lower right\")\n",
    "plt.show()"
   ]
  },
  {
   "cell_type": "markdown",
   "metadata": {},
   "source": [
    "### Confusion Matrix"
   ]
  },
  {
   "cell_type": "code",
   "execution_count": 100,
   "metadata": {},
   "outputs": [
    {
     "name": "stdout",
     "output_type": "stream",
     "text": [
      "[[485   4]\n",
      " [ 25  74]]\n"
     ]
    }
   ],
   "source": [
    "print (confusion_matrix(y_test, predictions))"
   ]
  },
  {
   "cell_type": "code",
   "execution_count": 101,
   "metadata": {},
   "outputs": [
    {
     "name": "stdout",
     "output_type": "stream",
     "text": [
      "True         0   1\n",
      "Predicted         \n",
      "0          485  25\n",
      "1            4  74\n",
      "              precision    recall  f1-score   support\n",
      "\n",
      "           0       0.95      0.99      0.97       489\n",
      "           1       0.95      0.75      0.84        99\n",
      "\n",
      "    accuracy                           0.95       588\n",
      "   macro avg       0.95      0.87      0.90       588\n",
      "weighted avg       0.95      0.95      0.95       588\n",
      "\n",
      "0.8435374149659864\n",
      "Total time taken 0.10697034597396851\n"
     ]
    }
   ],
   "source": [
    "cm_df = pd.DataFrame(confusion_matrix(y_test, predictions).T, index=model_dt_2.classes_,\n",
    "                     columns=model_dt_2.classes_)\n",
    "cm_df.index.name = 'Predicted'\n",
    "cm_df.columns.name = 'True'\n",
    "print(cm_df)\n",
    "print(classification_report(y_test, predictions))\n",
    "print(model_dt_2.score(x_test,y_test))\n",
    "\n",
    "print(\"Total time taken\" , ((time.time() - execution_start_time)/60))"
   ]
  },
  {
   "cell_type": "code",
   "execution_count": 102,
   "metadata": {},
   "outputs": [
    {
     "data": {
      "text/plain": [
       "0.9506802721088435"
      ]
     },
     "execution_count": 102,
     "metadata": {},
     "output_type": "execute_result"
    }
   ],
   "source": [
    "accuracy_score(y_test, predictions)"
   ]
  },
  {
   "cell_type": "code",
   "execution_count": 103,
   "metadata": {},
   "outputs": [],
   "source": [
    "import itertools\n",
    "from sklearn.metrics import confusion_matrix\n",
    "def plot_confusion_matrix(model, normalize=False): # This function prints and plots the confusion matrix.\n",
    "    cm = confusion_matrix(y_test, model, labels=[1, 0])\n",
    "    classes=[\"Success\", \"Fail\"]\n",
    "    cmap = plt.cm.Blues\n",
    "    title = \"Confusion Matrix\"\n",
    "    if normalize:\n",
    "        cm = cm.astype('float') / cm.sum(axis=1)[:, np.newaxis]\n",
    "        cm = np.around(cm, decimals=3)\n",
    "    plt.imshow(cm, interpolation='nearest', cmap=cmap)\n",
    "    plt.title(title)\n",
    "    plt.colorbar()\n",
    "    tick_marks = np.arange(len(classes))\n",
    "    plt.xticks(tick_marks, classes, rotation=45)\n",
    "    plt.yticks(tick_marks, classes)\n",
    "    thresh = cm.max() / 2.\n",
    "    for i, j in itertools.product(range(cm.shape[0]), range(cm.shape[1])):\n",
    "        plt.text(j, i, cm[i, j],\n",
    "                 horizontalalignment=\"center\",\n",
    "                 color=\"white\" if cm[i, j] > thresh else \"black\")\n",
    "    plt.tight_layout()\n",
    "    plt.ylabel('True label')\n",
    "    plt.xlabel('Predicted label')"
   ]
  },
  {
   "cell_type": "code",
   "execution_count": 104,
   "metadata": {},
   "outputs": [
    {
     "data": {
      "image/png": "[encoded data removed]",
      "text/plain": [
       "<Figure size 432x432 with 2 Axes>"
      ]
     },
     "metadata": {
      "needs_background": "light"
     },
     "output_type": "display_data"
    }
   ],
   "source": [
    "plt.figure(figsize=(6,6))\n",
    "plot_confusion_matrix(predictions, normalize=False)\n",
    "plt.show()"
   ]
  },
  {
   "cell_type": "code",
   "execution_count": 105,
   "metadata": {},
   "outputs": [],
   "source": [
    "# colormap = plt.cm.viridis\n",
    "# plt.figure(figsize=(12,12))\n",
    "# plt.title('Pearson Correlation of Features', y=1.05, size=15)\n",
    "# sns.heatmap(data_n.corr(),linewidths=0.1,vmax=1.0, square=True, cmap=colormap, linecolor='white', annot=True)"
   ]
  },
  {
   "cell_type": "code",
   "execution_count": null,
   "metadata": {},
   "outputs": [],
   "source": []
  }
 ],
 "metadata": {
  "kernelspec": {
   "display_name": "Python 3",
   "language": "python",
   "name": "python3"
  },
  "language_info": {
   "codemirror_mode": {
    "name": "ipython",
    "version": 3
   },
   "file_extension": ".py",
   "mimetype": "text/x-python",
   "name": "python",
   "nbconvert_exporter": "python",
   "pygments_lexer": "ipython3",
   "version": "3.8.5"
  }
 },
 "nbformat": 4,
 "nbformat_minor": 4
}
