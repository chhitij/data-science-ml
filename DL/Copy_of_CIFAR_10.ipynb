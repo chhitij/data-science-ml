{
  "nbformat": 4,
  "nbformat_minor": 0,
  "metadata": {
    "colab": {
      "name": "Copy of CIFAR-10.ipynb",
      "provenance": [],
      "collapsed_sections": [],
      "authorship_tag": "ABX9TyPtXNWL2nW8SEF7H/f/Sos2",
      "include_colab_link": true
    },
    "kernelspec": {
      "name": "python3",
      "display_name": "Python 3"
    },
    "language_info": {
      "name": "python"
    },
    "accelerator": "GPU"
  },
  "cells": [
    {
      "cell_type": "markdown",
      "metadata": {
        "id": "view-in-github",
        "colab_type": "text"
      },
      "source": [
        "<a href=\"https://colab.research.google.com/github/chhitij/data-science-ml/blob/main/DL/Copy_of_CIFAR_10.ipynb\" target=\"_parent\"><img src=\"https://colab.research.google.com/assets/colab-badge.svg\" alt=\"Open In Colab\"/></a>"
      ]
    },
    {
      "cell_type": "code",
      "metadata": {
        "id": "tUuqbGNyjYSW"
      },
      "source": [
        "import numpy as np\n",
        "import tensorflow as tf\n",
        "import pandas as pd\n",
        "from tensorflow.keras.datasets import cifar10\n",
        "from tensorflow.keras.models import Sequential\n",
        "from tensorflow.keras.layers import Dense , Dropout,Conv2D, MaxPool2D, Flatten\n",
        "import matplotlib.pyplot as plt\n"
      ],
      "execution_count": null,
      "outputs": []
    },
    {
      "cell_type": "code",
      "metadata": {
        "id": "f_NZ_nuvmJfo"
      },
      "source": [
        "# loading a dataset \n",
        "(X_train, y_train), (X_test, y_test) = cifar10.load_data()"
      ],
      "execution_count": null,
      "outputs": []
    },
    {
      "cell_type": "code",
      "metadata": {
        "colab": {
          "base_uri": "https://localhost:8080/"
        },
        "id": "nQAm5w5dmd0i",
        "outputId": "3f2801a3-6c96-40a5-f35b-20d0bff823c9"
      },
      "source": [
        "#(number_of_images, height, width,channel)\n",
        "X_train.shape"
      ],
      "execution_count": null,
      "outputs": [
        {
          "output_type": "execute_result",
          "data": {
            "text/plain": [
              "(50000, 32, 32, 3)"
            ]
          },
          "metadata": {
            "tags": []
          },
          "execution_count": 25
        }
      ]
    },
    {
      "cell_type": "code",
      "metadata": {
        "colab": {
          "base_uri": "https://localhost:8080/"
        },
        "id": "-HqTU1H5peGY",
        "outputId": "8c0c8bc4-4dbf-49c5-83fe-f8189726322a"
      },
      "source": [
        "X_test.shape"
      ],
      "execution_count": null,
      "outputs": [
        {
          "output_type": "execute_result",
          "data": {
            "text/plain": [
              "(10000, 32, 32, 3)"
            ]
          },
          "metadata": {
            "tags": []
          },
          "execution_count": 26
        }
      ]
    },
    {
      "cell_type": "code",
      "metadata": {
        "id": "85p7z3urmjdG"
      },
      "source": [
        "# naming all the classes\n",
        "classes = ['airplane',\n",
        "'automobile',\n",
        "'bird',\n",
        "'cat',\n",
        "'deer',\n",
        "'dog',\n",
        "'frog',\n",
        "'horse',\n",
        "'ship',\n",
        "'truck']"
      ],
      "execution_count": null,
      "outputs": []
    },
    {
      "cell_type": "code",
      "metadata": {
        "colab": {
          "base_uri": "https://localhost:8080/",
          "height": 284
        },
        "id": "rTTyWvk3m_zd",
        "outputId": "01998887-7e4c-417a-a4ed-0e33ebe8cf21"
      },
      "source": [
        "#visualising all the classes\n",
        "class_number = 100\n",
        "plt.imshow(X_train[class_number])\n",
        "classes[y_train[class_number][0]]"
      ],
      "execution_count": null,
      "outputs": [
        {
          "output_type": "execute_result",
          "data": {
            "application/vnd.google.colaboratory.intrinsic+json": {
              "type": "string"
            },
            "text/plain": [
              "'ship'"
            ]
          },
          "metadata": {
            "tags": []
          },
          "execution_count": 28
        },
        {
          "output_type": "display_data",
          "data": {
            "image/png": "[encoded data removed]",
            "text/plain": [
              "<Figure size 432x288 with 1 Axes>"
            ]
          },
          "metadata": {
            "tags": [],
            "needs_background": "light"
          }
        }
      ]
    },
    {
      "cell_type": "code",
      "metadata": {
        "id": "4CdRuqQvnNao"
      },
      "source": [
        "# NOrmalising the data\n",
        "\n",
        "X_train , X_test =  X_train/255.0 , X_test/255.0"
      ],
      "execution_count": null,
      "outputs": []
    },
    {
      "cell_type": "code",
      "metadata": {
        "id": "ppHy70Cmpwj_"
      },
      "source": [
        "# Training \n",
        "\n",
        "# 1> model building \n",
        "# 2> compilation\n",
        "# 3> training fit"
      ],
      "execution_count": null,
      "outputs": []
    },
    {
      "cell_type": "code",
      "metadata": {
        "id": "l6JJm_ZQp6SV"
      },
      "source": [
        "# model building \n",
        "\n",
        "model = Sequential()\n",
        "\n",
        "# conv layer 1\n",
        "model.add(Conv2D(36,(3,3),activation='relu',kernel_initializer='he_uniform'))\n",
        "# stride will be 3 if matrix size is 3*3\n",
        "model.add(MaxPool2D())\n",
        "\n",
        "\n",
        "# conv layer 2\n",
        "model.add(Conv2D(72,(3,3),activation='relu',kernel_initializer='he_uniform'))\n",
        "# stride will be 3 if matrix size is 3*3\n",
        "model.add(MaxPool2D())\n",
        "\n",
        "\n",
        "# conv layer 3\n",
        "model.add(Conv2D(144,(3,3),activation='relu',kernel_initializer='he_uniform'))\n",
        "# stride will be 3 if matrix size is 3*3\n",
        "model.add(MaxPool2D())\n",
        "\n",
        "\n",
        "model.add(Flatten())\n",
        "\n",
        "# fully connected layer\n",
        "\n",
        "#hiddem layer 1\n",
        "model.add(Dense(128, activation=\"relu\", kernel_initializer='he_uniform'))\n",
        "model.add(Dropout(0.1))\n",
        "\n",
        "#hiddem layer 2\n",
        "model.add(Dense(64,activation='sigmoid'))\n",
        "model.add(Dropout(0.1))\n",
        "\n",
        "#hiddem layer 3\n",
        "model.add(Dense(32,activation='relu' ,kernel_initializer='he_uniform'))\n",
        "model.add(Dropout(0.1))\n",
        "\n",
        "\n",
        "# ouptou layer\n",
        "model.add(Dense(10,activation='softmax'))\n",
        "\n",
        "\n"
      ],
      "execution_count": null,
      "outputs": []
    },
    {
      "cell_type": "code",
      "metadata": {
        "id": "e16ojdhovUVp"
      },
      "source": [
        "# Compile\n",
        "model.compile(optimizer='adam', loss=tf.keras.losses.sparse_categorical_crossentropy, metrics=['accuracy'])"
      ],
      "execution_count": null,
      "outputs": []
    },
    {
      "cell_type": "code",
      "metadata": {
        "colab": {
          "base_uri": "https://localhost:8080/"
        },
        "id": "CMUoX1RXv5Je",
        "outputId": "0a95dcaf-d804-4c94-c6f9-09f48deb26ee"
      },
      "source": [
        "# filt \n",
        "model.fit(X_train, y_train, epochs=50, batch_size=32)"
      ],
      "execution_count": null,
      "outputs": [
        {
          "output_type": "stream",
          "text": [
            "Epoch 1/50\n",
            "1563/1563 [==============================] - 38s 4ms/step - loss: 1.6179 - accuracy: 0.4011\n",
            "Epoch 2/50\n",
            "1563/1563 [==============================] - 6s 4ms/step - loss: 1.1915 - accuracy: 0.5778\n",
            "Epoch 3/50\n",
            "1563/1563 [==============================] - 6s 4ms/step - loss: 1.0038 - accuracy: 0.6480\n",
            "Epoch 4/50\n",
            "1563/1563 [==============================] - 6s 4ms/step - loss: 0.8769 - accuracy: 0.6982\n",
            "Epoch 5/50\n",
            "1563/1563 [==============================] - 6s 4ms/step - loss: 0.7847 - accuracy: 0.7326\n",
            "Epoch 6/50\n",
            "1563/1563 [==============================] - 6s 4ms/step - loss: 0.7118 - accuracy: 0.7569\n",
            "Epoch 7/50\n",
            "1563/1563 [==============================] - 6s 4ms/step - loss: 0.6406 - accuracy: 0.7835\n",
            "Epoch 8/50\n",
            "1563/1563 [==============================] - 6s 4ms/step - loss: 0.5928 - accuracy: 0.7991\n",
            "Epoch 9/50\n",
            "1563/1563 [==============================] - 6s 4ms/step - loss: 0.5324 - accuracy: 0.8205\n",
            "Epoch 10/50\n",
            "1563/1563 [==============================] - 6s 4ms/step - loss: 0.4913 - accuracy: 0.8347\n",
            "Epoch 11/50\n",
            "1563/1563 [==============================] - 6s 4ms/step - loss: 0.4557 - accuracy: 0.8475\n",
            "Epoch 12/50\n",
            "1563/1563 [==============================] - 6s 4ms/step - loss: 0.4201 - accuracy: 0.8594\n",
            "Epoch 13/50\n",
            "1563/1563 [==============================] - 6s 4ms/step - loss: 0.3836 - accuracy: 0.8715\n",
            "Epoch 14/50\n",
            "1563/1563 [==============================] - 6s 4ms/step - loss: 0.3582 - accuracy: 0.8813\n",
            "Epoch 15/50\n",
            "1563/1563 [==============================] - 6s 4ms/step - loss: 0.3330 - accuracy: 0.8884\n",
            "Epoch 16/50\n",
            "1563/1563 [==============================] - 6s 4ms/step - loss: 0.3133 - accuracy: 0.8952\n",
            "Epoch 17/50\n",
            "1563/1563 [==============================] - 6s 4ms/step - loss: 0.2956 - accuracy: 0.9007\n",
            "Epoch 18/50\n",
            "1563/1563 [==============================] - 6s 4ms/step - loss: 0.2747 - accuracy: 0.9075\n",
            "Epoch 19/50\n",
            "1563/1563 [==============================] - 6s 4ms/step - loss: 0.2597 - accuracy: 0.9138\n",
            "Epoch 20/50\n",
            "1563/1563 [==============================] - 6s 4ms/step - loss: 0.2434 - accuracy: 0.9192\n",
            "Epoch 21/50\n",
            "1563/1563 [==============================] - 6s 4ms/step - loss: 0.2294 - accuracy: 0.9246\n",
            "Epoch 22/50\n",
            "1563/1563 [==============================] - 6s 4ms/step - loss: 0.2212 - accuracy: 0.9276\n",
            "Epoch 23/50\n",
            "1563/1563 [==============================] - 6s 4ms/step - loss: 0.2148 - accuracy: 0.9292\n",
            "Epoch 24/50\n",
            "1563/1563 [==============================] - 6s 4ms/step - loss: 0.2022 - accuracy: 0.9335\n",
            "Epoch 25/50\n",
            "1563/1563 [==============================] - 6s 4ms/step - loss: 0.1994 - accuracy: 0.9352\n",
            "Epoch 26/50\n",
            "1563/1563 [==============================] - 6s 4ms/step - loss: 0.1850 - accuracy: 0.9399\n",
            "Epoch 27/50\n",
            "1563/1563 [==============================] - 6s 4ms/step - loss: 0.1821 - accuracy: 0.9414\n",
            "Epoch 28/50\n",
            "1563/1563 [==============================] - 6s 4ms/step - loss: 0.1735 - accuracy: 0.9432\n",
            "Epoch 29/50\n",
            "1563/1563 [==============================] - 6s 4ms/step - loss: 0.1737 - accuracy: 0.9447\n",
            "Epoch 30/50\n",
            "1563/1563 [==============================] - 6s 4ms/step - loss: 0.1600 - accuracy: 0.9483\n",
            "Epoch 31/50\n",
            "1563/1563 [==============================] - 6s 4ms/step - loss: 0.1570 - accuracy: 0.9505\n",
            "Epoch 32/50\n",
            "1563/1563 [==============================] - 6s 4ms/step - loss: 0.1547 - accuracy: 0.9496\n",
            "Epoch 33/50\n",
            "1563/1563 [==============================] - 6s 4ms/step - loss: 0.1550 - accuracy: 0.9496\n",
            "Epoch 34/50\n",
            "1563/1563 [==============================] - 6s 4ms/step - loss: 0.1442 - accuracy: 0.9544\n",
            "Epoch 35/50\n",
            "1563/1563 [==============================] - 6s 4ms/step - loss: 0.1468 - accuracy: 0.9526\n",
            "Epoch 36/50\n",
            "1563/1563 [==============================] - 6s 4ms/step - loss: 0.1416 - accuracy: 0.9543\n",
            "Epoch 37/50\n",
            "1563/1563 [==============================] - 6s 4ms/step - loss: 0.1355 - accuracy: 0.9568\n",
            "Epoch 38/50\n",
            "1563/1563 [==============================] - 6s 4ms/step - loss: 0.1373 - accuracy: 0.9557\n",
            "Epoch 39/50\n",
            "1563/1563 [==============================] - 6s 4ms/step - loss: 0.1360 - accuracy: 0.9572\n",
            "Epoch 40/50\n",
            "1563/1563 [==============================] - 6s 4ms/step - loss: 0.1248 - accuracy: 0.9612\n",
            "Epoch 41/50\n",
            "1563/1563 [==============================] - 6s 4ms/step - loss: 0.1274 - accuracy: 0.9594\n",
            "Epoch 42/50\n",
            "1563/1563 [==============================] - 6s 4ms/step - loss: 0.1296 - accuracy: 0.9580\n",
            "Epoch 43/50\n",
            "1563/1563 [==============================] - 6s 4ms/step - loss: 0.1258 - accuracy: 0.9602\n",
            "Epoch 44/50\n",
            "1563/1563 [==============================] - 6s 4ms/step - loss: 0.1220 - accuracy: 0.9620\n",
            "Epoch 45/50\n",
            "1563/1563 [==============================] - 6s 4ms/step - loss: 0.1180 - accuracy: 0.9617\n",
            "Epoch 46/50\n",
            "1563/1563 [==============================] - 6s 4ms/step - loss: 0.1185 - accuracy: 0.9628\n",
            "Epoch 47/50\n",
            "1563/1563 [==============================] - 6s 4ms/step - loss: 0.1180 - accuracy: 0.9631\n",
            "Epoch 48/50\n",
            "1563/1563 [==============================] - 6s 4ms/step - loss: 0.1203 - accuracy: 0.9623\n",
            "Epoch 49/50\n",
            "1563/1563 [==============================] - 6s 4ms/step - loss: 0.1129 - accuracy: 0.9636\n",
            "Epoch 50/50\n",
            "1563/1563 [==============================] - 6s 4ms/step - loss: 0.1143 - accuracy: 0.9654\n"
          ],
          "name": "stdout"
        },
        {
          "output_type": "execute_result",
          "data": {
            "text/plain": [
              "<tensorflow.python.keras.callbacks.History at 0x7f8327698c90>"
            ]
          },
          "metadata": {
            "tags": []
          },
          "execution_count": 37
        }
      ]
    },
    {
      "cell_type": "code",
      "metadata": {
        "id": "JK6oIxE6wZee"
      },
      "source": [
        "## whenever your target variable is in label encoding format - sparse_categorical_crossentropy\n",
        "\n",
        "## whenever your target variable is  one hot encoding format -  categorical_crossentropy"
      ],
      "execution_count": null,
      "outputs": []
    },
    {
      "cell_type": "code",
      "metadata": {
        "id": "uYdbPchOyV8j",
        "colab": {
          "base_uri": "https://localhost:8080/"
        },
        "outputId": "ee730701-b444-41c4-aa8f-494d5512a8b2"
      },
      "source": [
        "# casse is overfitting because testing data is prediction is low and tarining is high\n",
        "model.evaluate(X_test,y_test)"
      ],
      "execution_count": null,
      "outputs": [
        {
          "output_type": "stream",
          "text": [
            "313/313 [==============================] - 1s 3ms/step - loss: 1.4123 - accuracy: 0.7100\n"
          ],
          "name": "stdout"
        },
        {
          "output_type": "execute_result",
          "data": {
            "text/plain": [
              "[1.4123218059539795, 0.7099999785423279]"
            ]
          },
          "metadata": {
            "tags": []
          },
          "execution_count": 41
        }
      ]
    },
    {
      "cell_type": "code",
      "metadata": {
        "id": "3SVWLEPRy1Gl"
      },
      "source": [
        "y_pred = model.predict(X_test)"
      ],
      "execution_count": null,
      "outputs": []
    },
    {
      "cell_type": "code",
      "metadata": {
        "id": "uh-_MrPB0F86"
      },
      "source": [
        "class_number = 2"
      ],
      "execution_count": null,
      "outputs": []
    },
    {
      "cell_type": "code",
      "metadata": {
        "id": "O6azaMlzzeMn",
        "colab": {
          "base_uri": "https://localhost:8080/",
          "height": 35
        },
        "outputId": "19375f72-daca-4a34-b9ec-002c5f3edc48"
      },
      "source": [
        "classes[np.argmax(y_pred[class_number])]"
      ],
      "execution_count": null,
      "outputs": [
        {
          "output_type": "execute_result",
          "data": {
            "application/vnd.google.colaboratory.intrinsic+json": {
              "type": "string"
            },
            "text/plain": [
              "'automobile'"
            ]
          },
          "metadata": {
            "tags": []
          },
          "execution_count": 48
        }
      ]
    },
    {
      "cell_type": "code",
      "metadata": {
        "id": "OtmpwZejz6U9"
      },
      "source": [
        ""
      ],
      "execution_count": null,
      "outputs": []
    }
  ]
}