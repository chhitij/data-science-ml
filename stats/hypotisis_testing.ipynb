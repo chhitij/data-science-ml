{
 "cells": [
  {
   "cell_type": "code",
   "execution_count": null,
   "metadata": {},
   "outputs": [],
   "source": [
    "# Author : Chhitij.s"
   ]
  },
  {
   "cell_type": "code",
   "execution_count": 6,
   "metadata": {},
   "outputs": [],
   "source": [
    "import pandas as pd\n",
    "import scipy.stats\n",
    "import math;\n",
    "from enum import Enum # for making option as enum"
   ]
  },
  {
   "cell_type": "code",
   "execution_count": 23,
   "metadata": {},
   "outputs": [],
   "source": [
    "class Option(Enum):\n",
    "      INTERVAL_ESTIMATION, POINT_ESTIMATION ,HYPOTHESIS , ALL= range(4) # 0,1,2,3\n",
    "\n",
    "# Defined zAlfa value default for onetail and two tails testing\n",
    "oneTailZalfa = 1.64;\n",
    "twoTailZalfa = 1.96;\n",
    "\n",
    "tAlfaValue = {'DOF15': {'T.005':1.753, 'T.025':2.131},'DOF16': {'T.005':1.746, 'T.025':2.120}}\n",
    "\n",
    "        \n",
    "# Function for handling exception for entered file val\n",
    "def handleException(dataset):\n",
    "        try:\n",
    "            # from cereal data set extract panda series column sodim\n",
    "            dataset = pd.read_csv(dataset, usecols=['sodium'], squeeze=True);\n",
    "        except IOError:\n",
    "            print(\"Error: can\\'t find file\")\n",
    "        else:\n",
    "            return dataset\n",
    "\n",
    "\n",
    "#@arg fileType: for csv file,\n",
    "#@arg flag: for calculation oneTail or twoTail test default is two tail test\n",
    "#@arg populationMean: for calculation hypothisys;\n",
    "#@arg option : for caluation of Option enum class. Default option ALL\n",
    "\n",
    "def hyp_test(fileType,flag=\"TwoTail\",option=Option.ALL, populationMean=0):\n",
    "    estimate = 0;\n",
    "    output = {}\n",
    "    try:\n",
    "        # from cereal data set extract panda series column sodim\n",
    "        df = pd.read_csv(fileType, usecols=['sodium'], squeeze=True);\n",
    "        mean = df.mean();\n",
    "        sd = df.std();\n",
    "        sampleSize = df.count();\n",
    "    except IOError:\n",
    "            print(\"Error: can\\'t find file\")\n",
    "    else:\n",
    "        # check if in option hypothesis or all is passed\n",
    "        if(option==Option.HYPOTHESIS):\n",
    "                decesion = hTesting(flag,mean,sd,sampleSize,populationMean);\n",
    "                decesion_estimation = {'Decision Of Hypothysis':decesion}\n",
    "                output.update(decesion_estimation);\n",
    "        elif(option==Option.INTERVAL_ESTIMATION):\n",
    "            # if sample size lessthan 30 then have to calculate for t test\n",
    "            if(sampleSize <=30):\n",
    "                estimate = tEstimation(mean,sd,sampleSize);\n",
    "                interval_estimation = {'Interval Estimate':estimate}\n",
    "                output.update(interval_estimation);\n",
    "            # sample size morethan 30 is for z esrimation;\n",
    "            else:\n",
    "                estimate = zEstimation(flag,mean,sd,sampleSize);\n",
    "                interval_estimation = {'Interval Estimate':estimate}\n",
    "                output.update(interval_estimation);\n",
    "            # case for point estimeate\n",
    "        elif(option==Option.POINT_ESTIMATION):\n",
    "            estimate = \"{:.2f}\".format(mean);\n",
    "            point_estimate = {'Point Estimate': estimate}\n",
    "            output.update(point_estimate)\n",
    "        else:\n",
    "            # Update Point Estimate\n",
    "            estimate = \"{:.2f}\".format(mean);\n",
    "            point_estimate = {'Point Estimate': estimate}\n",
    "            output.update(point_estimate)\n",
    "            # Update Interval Estimate .\n",
    "            if(sampleSize <=30):\n",
    "                estimate = tEstimation(mean,sd,sampleSize);\n",
    "                interval_estimation = {'Interval Estimate':estimate}\n",
    "                output.update(interval_estimation);\n",
    "            # sample size morethan 30 is for z esrimation;\n",
    "            else:\n",
    "                estimate = zEstimation(flag, mean,sd,sampleSize);\n",
    "                interval_estimation = {'Interval Estimate':estimate}\n",
    "                output.update(interval_estimation);\n",
    "            # Update Hypothysis Decision .\n",
    "            decesion = hTesting(flag,mean,sd,sampleSize,populationMean);\n",
    "            decesion_estimation = {'Decision Of Hypothysis':decesion}\n",
    "            output.update(decesion_estimation);\n",
    "    \n",
    "    return output;\n",
    "\n",
    "\n",
    "# consedering aTlfa value is oneTail test for now\n",
    "# Need to optmise more for t table and z table\n",
    "# @param mean : mean for sample\n",
    "# @param sd : standerd davitaion of sample\n",
    "# @param samplesize: size of the sample\n",
    "def tEstimation(mean,sd,sampleSize):\n",
    "            # Assuming degree of freedom is 15  sample size = 16-1 = 15;\n",
    "            plusMarginValue = (mean+(tAlfaValue['DOF15']['T.005'])*(sd/math.sqrt(sampleSize)));\n",
    "            minusMarginValue = (mean-(tAlfaValue['DOF15']['T.005'])*(sd/math.sqrt(sampleSize)));\n",
    "            return (\"{:.2f}\".format(plusMarginValue),\"{:.2f}\".format(minusMarginValue));\n",
    "\n",
    "\n",
    "# consedering zAlfaValue is twotail test for now\n",
    "# @param mean : mean for sample\n",
    "# @param sd : standerd davitaion of sample\n",
    "# @param samplesize: size of the sample\n",
    "def zEstimation(flag,mean,sd,sampleSize):\n",
    "            print('mean',mean)\n",
    "            if(flag=='TwoTail'):\n",
    "                plusMarginValue = (mean+(twoTailZalfa)*(sd/math.sqrt(sampleSize)));\n",
    "                minusMarginValue = (mean-(twoTailZalfa)*(sd/math.sqrt(sampleSize)));\n",
    "            else:\n",
    "                plusMarginValue = (mean+(oneTailZalfa)*(sd/math.sqrt(sampleSize)));\n",
    "                minusMarginValue = (mean-(oneTailZalfa)*(sd/math.sqrt(sampleSize)));\n",
    "            return (\"{:.2f}\".format(plusMarginValue),\"{:.2f}\".format(minusMarginValue));\n",
    "\n",
    "# param flag for one tail testing or two tail testing\n",
    "# @param mean : mean for sample\n",
    "# @param sd : standerd davitaion of sample\n",
    "# @param samplesize: size of the sample\n",
    "# @param populationMean: respect to perform hypothsys testing \n",
    "def hTesting(flag,mean,sd,sampleSize,populationMean):\n",
    "            desicion = '';\n",
    "            xBarMinusMu = populationMean - mean;\n",
    "            sdAndRootOfSample =  sd/math.sqrt(sampleSize);\n",
    "            zStatesScore = xBarMinusMu /sdAndRootOfSample;\n",
    "            if(flag=='TwoTail'):\n",
    "                desicion = 'Reject Hypothysis' if(zStatesScore > twoTailZalfa) else 'Accept Hypothsis';\n",
    "                \n",
    "            return desicion;"
   ]
  },
  {
   "cell_type": "code",
   "execution_count": 33,
   "metadata": {},
   "outputs": [
    {
     "name": "stdout",
     "output_type": "stream",
     "text": [
      "mean 159.67532467532467\n"
     ]
    },
    {
     "data": {
      "text/plain": [
       "{'Point Estimate': '159.68',\n",
       " 'Interval Estimate': ('178.40', '140.95'),\n",
       " 'Decision Of Hypothysis': 'Reject Hypothysis'}"
      ]
     },
     "execution_count": 33,
     "metadata": {},
     "output_type": "execute_result"
    }
   ],
   "source": [
    "# make arg to call hyp_test function\n",
    "#arg 1 : file\n",
    "#arg2: flag for twotail testing or one tail testing\n",
    "#arg3: for option\n",
    "#arg4: for external mean in case of all and hypothys testing\n",
    "\n",
    "# IMP INPUT POINT ----------------------------------------------------\n",
    "# For INTERVAL_ESTIMATION provide Option.INTERVAL_ESTIMATION enum\n",
    "# For POINT_ESTIMATION porvide Option.POINT_ESTIMATION from option enum\n",
    "# For HYPOTHESIS porvide Option.HYPOTHESIS \n",
    "# For All provide Option.ALL\n",
    "# default value of Option is seted Option.ALL\n",
    "\n",
    "# As its function for one sample test then for Performing hypotysis please provide performed population means \n",
    "xBarMean = 221;\n",
    "args = (\"cereal.csv\",'TwoTail', Option.ALL , xBarMean)\n",
    "hyp_test(*args)"
   ]
  },
  {
   "cell_type": "code",
   "execution_count": null,
   "metadata": {},
   "outputs": [],
   "source": []
  },
  {
   "cell_type": "code",
   "execution_count": null,
   "metadata": {},
   "outputs": [],
   "source": []
  },
  {
   "cell_type": "code",
   "execution_count": null,
   "metadata": {},
   "outputs": [],
   "source": []
  },
  {
   "cell_type": "code",
   "execution_count": null,
   "metadata": {},
   "outputs": [],
   "source": []
  }
 ],
 "metadata": {
  "kernelspec": {
   "display_name": "Python 3",
   "language": "python",
   "name": "python3"
  },
  "language_info": {
   "codemirror_mode": {
    "name": "ipython",
    "version": 3
   },
   "file_extension": ".py",
   "mimetype": "text/x-python",
   "name": "python",
   "nbconvert_exporter": "python",
   "pygments_lexer": "ipython3",
   "version": "3.8.5"
  }
 },
 "nbformat": 4,
 "nbformat_minor": 4
}