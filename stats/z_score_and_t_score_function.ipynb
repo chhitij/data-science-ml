{
 "cells": [
  {
   "cell_type": "code",
   "execution_count": 3,
   "metadata": {},
   "outputs": [],
   "source": [
    "import pandas as pd\n",
    "import scipy.stats\n",
    "import math;\n"
   ]
  },
  {
   "cell_type": "code",
   "execution_count": 4,
   "metadata": {},
   "outputs": [],
   "source": [
    "intervalEstimation = \"Interval\";\n",
    "pointEstimation = \"Point\"\n",
    "zAlfaValue = {'Z0.05':1.64, 'Z0.025':1.96};\n",
    "tAlfaValue = {'DOF15': {'T.005':1.753, 'T.025':2.131},'DOF16': {'T.005':1.746, 'T.025':2.120}} \n",
    "def intervalAndPointEstimation(fileType, flag):\n",
    "    estimate = 0;\n",
    "    try:\n",
    "        df = pd.read_csv(fileType, usecols=['salary'], squeeze=True);\n",
    "        mean = df.mean();\n",
    "        sd = df.std();\n",
    "        sampleSize = df.count();\n",
    "    except IOError:\n",
    "          print(\"Error: can\\'t find file\")\n",
    "    else:\n",
    "        if(flag=='Point'):\n",
    "            estimate = mean;\n",
    "        elif(flag=='Interval'):\n",
    "            if(sampleSize <=30) :\n",
    "                estimate = tEstimation(mean,sd,sampleSize);\n",
    "            else:\n",
    "                 # for now puttinzAlfa value for two tail\n",
    "                estimate = zEstimation(mean,sd,sampleSize);\n",
    "    return estimate;\n",
    "\n",
    "\n",
    "\n",
    "def tEstimation(mean,sd,sampleSize):\n",
    "            # Assuming degree of freedom is 15  sample size = 16-1 = 15;\n",
    "            plusMarginValue = (mean+(tAlfaValue['DOF15']['T.005'])*(sd/math.sqrt(sampleSize)));\n",
    "            minusMarginValue = (mean-(tAlfaValue['DOF15']['T.005'])*(sd/math.sqrt(sampleSize)));\n",
    "            return (\"{:.2f}\".format(plusMarginValue),\"{:.2f}\".format(minusMarginValue));\n",
    "    \n",
    "    \n",
    "    \n",
    "def zEstimation(mean,sd,sampleSize):\n",
    "            # Assuming degree of freedom is 15  sample size = 16-1 = 15;\n",
    "            plusMarginValue = (mean+(zAlfaValue['Z0.025'])*(sd/math.sqrt(sampleSize)));\n",
    "            minusMarginValue = (mean-(zAlfaValue['Z0.025'])*(sd/math.sqrt(sampleSize)));\n",
    "            return (\"{:.2f}\".format(plusMarginValue),\"{:.2f}\".format(minusMarginValue));\n",
    "    "
   ]
  },
  {
   "cell_type": "code",
   "execution_count": 5,
   "metadata": {},
   "outputs": [
    {
     "data": {
      "text/plain": [
       "('57292.44', '16707.56')"
      ]
     },
     "execution_count": 5,
     "metadata": {},
     "output_type": "execute_result"
    }
   ],
   "source": [
    "intervalAndPointEstimation('sal.csv',intervalEstimation)"
   ]
  },
  {
   "cell_type": "code",
   "execution_count": 6,
   "metadata": {
    "scrolled": true
   },
   "outputs": [
    {
     "data": {
      "text/plain": [
       "0    20000\n",
       "1    40000\n",
       "2    30000\n",
       "3    80000\n",
       "4    15000\n",
       "Name: salary, dtype: int64"
      ]
     },
     "execution_count": 6,
     "metadata": {},
     "output_type": "execute_result"
    }
   ],
   "source": [
    "df = pd.read_csv('sal.csv',squeeze=True);\n",
    "df"
   ]
  },
  {
   "cell_type": "code",
   "execution_count": null,
   "metadata": {},
   "outputs": [],
   "source": []
  }
 ],
 "metadata": {
  "kernelspec": {
   "display_name": "Python 3",
   "language": "python",
   "name": "python3"
  },
  "language_info": {
   "codemirror_mode": {
    "name": "ipython",
    "version": 3
   },
   "file_extension": ".py",
   "mimetype": "text/x-python",
   "name": "python",
   "nbconvert_exporter": "python",
   "pygments_lexer": "ipython3",
   "version": "3.8.5"
  }
 },
 "nbformat": 4,
 "nbformat_minor": 4
}